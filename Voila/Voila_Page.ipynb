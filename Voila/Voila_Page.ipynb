{
 "cells": [
  {
   "cell_type": "code",
   "execution_count": 1,
   "metadata": {},
   "outputs": [
    {
     "data": {
      "text/markdown": [
       "# Hello to our Voila Page 🎊"
      ],
      "text/plain": [
       "<IPython.core.display.Markdown object>"
      ]
     },
     "metadata": {},
     "output_type": "display_data"
    },
    {
     "data": {
      "text/markdown": [
       "## Feel free to provide two numbers and one operator to get a result"
      ],
      "text/plain": [
       "<IPython.core.display.Markdown object>"
      ]
     },
     "metadata": {},
     "output_type": "display_data"
    },
    {
     "data": {
      "text/markdown": [
       "#### You will go to hell if you divide by zero"
      ],
      "text/plain": [
       "<IPython.core.display.Markdown object>"
      ]
     },
     "metadata": {},
     "output_type": "display_data"
    },
    {
     "data": {
      "application/vnd.jupyter.widget-view+json": {
       "model_id": "977363e5260d4b4da9367e0282e80a85",
       "version_major": 2,
       "version_minor": 0
      },
      "text/plain": [
       "HBox(children=(VBox(children=(FloatText(value=7.5, description='Number 1:'), FloatText(value=7.5, description=…"
      ]
     },
     "execution_count": 1,
     "metadata": {},
     "output_type": "execute_result"
    }
   ],
   "source": [
    "import numpy as np\n",
    "from IPython.display import display, Markdown\n",
    "import ipywidgets as widgets\n",
    "from ipywidgets import interact\n",
    "\n",
    "import matplotlib.pyplot as plt\n",
    "from IPython.display import set_matplotlib_formats\n",
    "\n",
    "display(Markdown(\"# Hello to our Voila Page 🎊\"));\n",
    "\n",
    "display(Markdown(\"## Feel free to provide two numbers and one operator to get a result\"));\n",
    "\n",
    "display(Markdown(\"#### You will go to hell if you divide by zero\"));\n",
    "\n",
    "def f(a, b, op):\n",
    "    \n",
    "    print('{}{}{}={}'.format(a, op, b, a+b if op == '+' else a*b if op == '*' else a-b if op == '-' else a/b))\n",
    "\n",
    "a = widgets.FloatText(\n",
    "    value=7.5,\n",
    "    description='Number 1:',\n",
    "    disabled=False\n",
    ")\n",
    "\n",
    "b = widgets.FloatText(\n",
    "    value=7.5,\n",
    "    description='Number 2:',\n",
    "    disabled=False\n",
    ")\n",
    "\n",
    "op = widgets.Dropdown(\n",
    "    options=['+', '*', '-', '/'],\n",
    "    value='+',\n",
    "    description='Operator:',\n",
    "    disabled=False,\n",
    ")\n",
    "\n",
    "out = widgets.interactive_output(f, {'a': a, 'b': b,'op': op})\n",
    "widgets.HBox([widgets.VBox([a, b, op]), out])\n",
    "          "
   ]
  },
  {
   "cell_type": "code",
   "execution_count": null,
   "metadata": {},
   "outputs": [],
   "source": []
  }
 ],
 "metadata": {
  "kernelspec": {
   "display_name": "Python 3",
   "language": "python",
   "name": "python3"
  },
  "language_info": {
   "codemirror_mode": {
    "name": "ipython",
    "version": 3
   },
   "file_extension": ".py",
   "mimetype": "text/x-python",
   "name": "python",
   "nbconvert_exporter": "python",
   "pygments_lexer": "ipython3",
   "version": "3.10.7"
  },
  "orig_nbformat": 4
 },
 "nbformat": 4,
 "nbformat_minor": 2
}
